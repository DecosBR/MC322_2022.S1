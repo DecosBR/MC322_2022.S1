{
 "cells": [
  {
   "cell_type": "markdown",
   "metadata": {},
   "source": [
    "# Laboratório em Estruturas de Programação Java\n",
    "\n",
    "O laboratório a seguir serve para praticar estruturas de programação Java sem compromisso com a orientação a objetos."
   ]
  },
  {
   "cell_type": "markdown",
   "metadata": {},
   "source": [
    "## Desafio 1 - Empréstimo\n",
    "\n",
    "Em um financiamento com juros compostos e número de parcelas fixas parte-se dos seguintes parâmetros:\n",
    "* `S` - valor da primeira parcela\n",
    "* `N` - número de parcelas\n",
    "* `J` - percentual de juros mensal\n",
    "\n",
    "A primeira parcela a ser paga do financiamento é sempre igual a `S`. A partir daí é feita uma atualização mensal da parcela, em que cada nova parcela é calculada a partir da parcela do mês anterior, conforme a fórmula:\n",
    "\n",
    "> Parcela<sub>mês</sub> = Parcela<sub>mês-1</sub> * (1 + `J` / 100)\n",
    "\n",
    "O financiamento encerra quando as `N` parcelas são pagas.\n",
    "\n",
    "Exemplo:\n",
    "* `S`: 200\n",
    "* `N`: 5\n",
    "* `J`: 1%\n",
    "\n",
    "Parcelas do financiamento:\n",
    "`200`; `202`; `204.02`; `206.06`; `208.12`"
   ]
  },
  {
   "cell_type": "markdown",
   "metadata": {},
   "source": [
    "### Desafio 1 / Parte 1 - Escrevendo o programa sem módulos\n",
    "\n",
    "Dado o problema descrito, escreva um programa que calcule as parcelas de um empréstimo para os seguintes valores:\n",
    "* S: 200\n",
    "* N: 5\n",
    "* J: 1%\n",
    "\n",
    "Nesta versão não use outro módulo além da função principal."
   ]
  },
  {
   "cell_type": "code",
   "execution_count": 1,
   "metadata": {},
   "outputs": [
    {
     "name": "stdout",
     "output_type": "stream",
     "text": [
      "Parcela 1 eh 200.0\n",
      "Parcela 2 eh 202.0\n",
      "Parcela 3 eh 204.02\n",
      "Parcela 4 eh 206.0602\n",
      "Parcela 5 eh 208.12079\n"
     ]
    },
    {
     "data": {
      "text/plain": [
       "null"
      ]
     },
     "execution_count": 1,
     "metadata": {},
     "output_type": "execute_result"
    }
   ],
   "source": [
    "float fS, fJ, fParcelaAtual;\n",
    "int cont, iN;\n",
    "\n",
    "\n",
    "iN=5;\n",
    "fS=200;    \n",
    "fJ=1;    \n",
    "fParcelaAtual = fS;\n",
    "\n",
    "\n",
    "for (cont = 1; cont <= 5; cont++)\n",
    "{\n",
    "    System.out.println(\"Parcela \" + cont + \" eh \" + fParcelaAtual);\n",
    "    fParcelaAtual = fParcelaAtual * (1 + fJ/100); \n",
    "}"
   ]
  },
  {
   "cell_type": "markdown",
   "metadata": {},
   "source": [
    "### Desafio 1 / Parte 2 - Escrevendo módulos\n",
    "\n",
    "Reescreva o código acima de forma que seu programa faça uso de uma função que seja responsável pelo cálculo de uma parcela X do empréstimo. Podem ser usadas mais funções (métodos) conforme a necessidade."
   ]
  },
  {
   "cell_type": "code",
   "execution_count": 2,
   "metadata": {},
   "outputs": [
    {
     "data": {
      "text/plain": [
       "com.twosigma.beaker.javash.bkrabf7fd49.Emprestimo"
      ]
     },
     "execution_count": 2,
     "metadata": {},
     "output_type": "execute_result"
    }
   ],
   "source": [
    "public class Emprestimo \n",
    "{\n",
    "    static float fProximaParcela(float J, float S) \n",
    "    {\n",
    "       return S * (1 + J/100);\n",
    "    }   \n",
    "}"
   ]
  },
  {
   "cell_type": "code",
   "execution_count": 3,
   "metadata": {},
   "outputs": [
    {
     "name": "stdout",
     "output_type": "stream",
     "text": [
      "Parcela 1 eh 200.0\n",
      "Parcela 2 eh 202.0\n",
      "Parcela 3 eh 204.02\n",
      "Parcela 4 eh 206.0602\n",
      "Parcela 5 eh 208.12079\n"
     ]
    },
    {
     "data": {
      "text/plain": [
       "null"
      ]
     },
     "execution_count": 3,
     "metadata": {},
     "output_type": "execute_result"
    }
   ],
   "source": [
    "float fS, fJ, fParcelaAtual;\n",
    "int cont, iN;\n",
    "\n",
    "\n",
    "iN=5;\n",
    "fS=200;    \n",
    "fJ=1;    \n",
    "fParcelaAtual = fS;\n",
    "\n",
    "\n",
    "for (cont = 1; cont <= 5; cont++)\n",
    "{\n",
    "    System.out.println(\"Parcela \" + cont + \" eh \" + fParcelaAtual);\n",
    "    fParcelaAtual = Emprestimo.fProximaParcela(fJ,fParcelaAtual);\n",
    "}"
   ]
  },
  {
   "cell_type": "markdown",
   "metadata": {},
   "source": [
    "## Desafio 2\n",
    "\n",
    "Escreva um programa que sorteie um número inteiro entre `0` e `9999` o número deve ser mostrado, em seguida convertido para binário e a versão binária deve ser apresentada no console. A conversão decimal/binário deve ser computada por um programa feito por você."
   ]
  },
  {
   "cell_type": "code",
   "execution_count": 4,
   "metadata": {},
   "outputs": [
    {
     "data": {
      "text/plain": [
       "com.twosigma.beaker.javash.bkrabf7fd49.Conversao"
      ]
     },
     "execution_count": 4,
     "metadata": {},
     "output_type": "execute_result"
    }
   ],
   "source": [
    "public class Conversao \n",
    "{\n",
    "    static String dec_bin(int dec) \n",
    "    {\n",
    "        if (dec == 1)\n",
    "        {\n",
    "           return (\"1\"); \n",
    "        }\n",
    "        else\n",
    "        {\n",
    "            if(dec%2 == 1)\n",
    "            {\n",
    "                return (Conversao.dec_bin((dec-1)/2) + \"1\"); \n",
    "            }\n",
    "            else\n",
    "            {\n",
    "                return (Conversao.dec_bin((dec)/2) + \"0\"); \n",
    "            }\n",
    "        }\n",
    "    }   \n",
    "}"
   ]
  },
  {
   "cell_type": "code",
   "execution_count": 5,
   "metadata": {},
   "outputs": [
    {
     "name": "stdout",
     "output_type": "stream",
     "text": [
      "Inteiro sorteado: 154\n",
      "Conversão para binário: 10011010\n"
     ]
    },
    {
     "data": {
      "text/plain": [
       "null"
      ]
     },
     "execution_count": 5,
     "metadata": {},
     "output_type": "execute_result"
    }
   ],
   "source": [
    "import java.util.Random;\n",
    "\n",
    "Random rand = new Random();\n",
    "int iNrand = rand.nextInt(9999);\n",
    "System.out.println(\"Inteiro sorteado: \" + iNrand );\n",
    "\n",
    "System.out.println(\"Conversão para binário: \" + Conversao.dec_bin(iNrand));"
   ]
  },
  {
   "cell_type": "markdown",
   "metadata": {},
   "source": [
    "## Desafio 3\n",
    "\n",
    "Uma molécula de DNA pode ser definida a partir de uma cadeia que representa a sequência de suas bases:\n",
    "A - Adenina\n",
    "C - Citisina\n",
    "G - Guanina\n",
    "T - Tinina\n",
    "\n",
    "Desse modo, uma string pode ser usada para representar um segmento do DNA da seguinte maneira: `ATTACGCGCAAAC`.\n",
    "\n",
    "Escreva uma função (método) que codifique a cadeia de RNA produzida a partir de uma cadeia de DNA. A função deve ser genérica o suficiente para ser aplicável a qualquer cadeia. A entrada é uma string (DNA) e o retorno é uma string (RNA).\n",
    "\n",
    "Escreva um programa que teste esta função com uma cadeia de DNA de sua escolha."
   ]
  },
  {
   "cell_type": "code",
   "execution_count": 6,
   "metadata": {},
   "outputs": [
    {
     "data": {
      "text/plain": [
       "com.twosigma.beaker.javash.bkrabf7fd49.Cadeia"
      ]
     },
     "execution_count": 6,
     "metadata": {},
     "output_type": "execute_result"
    }
   ],
   "source": [
    "public class Cadeia \n",
    "{\n",
    "    static String DNA_RNA(String sDNA) \n",
    "    {\n",
    "        String sRNA = \"\";\n",
    "        int iN = sDNA.length()-1;\n",
    "        \n",
    "        for (int i = 0; i <= iN;  i++)\n",
    "        {\n",
    "            if(sDNA.charAt(i) == 'A')\n",
    "                sRNA = sRNA+\"U\";\n",
    "            else if(sDNA.charAt(i) == 'T')\n",
    "                sRNA = sRNA+\"A\";\n",
    "            else if(sDNA.charAt(i) == 'C')\n",
    "                sRNA =sRNA+\"G\";\n",
    "            else if(sDNA.charAt(i) == 'G')\n",
    "                sRNA =sRNA+\"C\";\n",
    "            \n",
    "        }\n",
    "        \n",
    "        return sRNA;\n",
    "    }   \n",
    "}"
   ]
  },
  {
   "cell_type": "code",
   "execution_count": 7,
   "metadata": {},
   "outputs": [
    {
     "name": "stdout",
     "output_type": "stream",
     "text": [
      "DNA: ATTACGCGCAAAC\n",
      "RNA: UAAUGCGCGUUUG\n"
     ]
    },
    {
     "data": {
      "text/plain": [
       "null"
      ]
     },
     "execution_count": 7,
     "metadata": {},
     "output_type": "execute_result"
    }
   ],
   "source": [
    "String sDNA = \"ATTACGCGCAAAC\";\n",
    "System.out.println(\"DNA: \" + sDNA );\n",
    "System.out.println(\"RNA: \" + Cadeia.DNA_RNA(sDNA) );"
   ]
  },
  {
   "cell_type": "markdown",
   "metadata": {},
   "source": [
    "## Desafio 4\n",
    "\n",
    "Uma empresa precisa realizar uma estatística do salário de seus funcionários.\n",
    "\n",
    "Para fins de teste, os salários devem ser gerados aleatoriamente com valores variando entre R\\\\$ 2.500 e R\\\\$ 15.000.\n",
    "\n",
    "Escreva um programa que gere uma lista contendo os salários de 50 funcionários da empresa e mostre no console quantos funcionários ganham salário acima da média."
   ]
  },
  {
   "cell_type": "code",
   "execution_count": 8,
   "metadata": {},
   "outputs": [
    {
     "name": "stdout",
     "output_type": "stream",
     "text": [
      "Salário 1 : 13324\n",
      "Salário 2 : 10617\n",
      "Salário 3 : 11468\n",
      "Salário 4 : 2832\n",
      "Salário 5 : 13602\n",
      "Salário 6 : 3353\n",
      "Salário 7 : 14257\n",
      "Salário 8 : 13634\n",
      "Salário 9 : 3580\n",
      "Salário 10 : 13154\n",
      "Salário 11 : 12091\n",
      "Salário 12 : 10386\n",
      "Salário 13 : 4285\n",
      "Salário 14 : 6882\n",
      "Salário 15 : 3849\n",
      "Salário 16 : 10847\n",
      "Salário 17 : 14914\n",
      "Salário 18 : 10537\n",
      "Salário 19 : 13024\n",
      "Salário 20 : 6902\n",
      "Salário 21 : 4368\n",
      "Salário 22 : 11300\n",
      "Salário 23 : 14268\n",
      "Salário 24 : 13914\n",
      "Salário 25 : 7215\n",
      "Salário 26 : 14935\n",
      "Salário 27 : 10301\n",
      "Salário 28 : 6567\n",
      "Salário 29 : 12155\n",
      "Salário 30 : 8746\n",
      "Salário 31 : 12566\n",
      "Salário 32 : 5506\n",
      "Salário 33 : 4949\n",
      "Salário 34 : 10049\n",
      "Salário 35 : 12934\n",
      "Salário 36 : 8067\n",
      "Salário 37 : 10420\n",
      "Salário 38 : 10012\n",
      "Salário 39 : 13471\n",
      "Salário 40 : 7570\n",
      "Salário 41 : 7085\n",
      "Salário 42 : 8948\n",
      "Salário 43 : 4590\n",
      "Salário 44 : 9846\n",
      "Salário 45 : 11303\n",
      "Salário 46 : 9854\n",
      "Salário 47 : 11833\n",
      "Salário 48 : 9342\n",
      "Salário 49 : 9715\n",
      "Salário 50 : 14355\n",
      "\n",
      "30 funcionários ganham salário acima da média.\n"
     ]
    },
    {
     "data": {
      "text/plain": [
       "null"
      ]
     },
     "execution_count": 8,
     "metadata": {},
     "output_type": "execute_result"
    }
   ],
   "source": [
    "import java.util.concurrent.ThreadLocalRandom;\n",
    "\n",
    "int iSalarios[] = new int[50];\n",
    "int iSoma = 0;\n",
    "int iMedia = 0;\n",
    "int icont = 0;\n",
    "int n = 0;\n",
    "\n",
    "for (n = 0; n < 50; n++)\n",
    "{\n",
    "    iSalarios[n] = ThreadLocalRandom.current().nextInt(2500, 15000 + 1);\n",
    "    iSoma = iSoma + iSalarios[n];\n",
    "    System.out.println(\"Salário \" + (n+1) + \" : \" + iSalarios[n]);\n",
    "}\n",
    "\n",
    "iMedia = iSoma/50;\n",
    "\n",
    "for (n = 0; n < 50; n++)\n",
    "{\n",
    "    if(iSalarios[n] > iMedia)\n",
    "        icont ++;\n",
    "}\n",
    "\n",
    "System.out.println(\"\\n\" + icont + \" funcionários ganham salário acima da média.\");"
   ]
  },
  {
   "cell_type": "code",
   "execution_count": null,
   "metadata": {},
   "outputs": [],
   "source": []
  }
 ],
 "metadata": {
  "kernelspec": {
   "display_name": "Java",
   "language": "java",
   "name": "java"
  },
  "language_info": {
   "codemirror_mode": "text/x-java",
   "file_extension": ".java",
   "mimetype": "",
   "name": "Java",
   "nbconverter_exporter": "",
   "version": "1.8.0_121"
  },
  "toc": {
   "base_numbering": 1,
   "nav_menu": {},
   "number_sections": false,
   "sideBar": false,
   "skip_h1_title": false,
   "title_cell": "Table of Contents",
   "title_sidebar": "Contents",
   "toc_cell": false,
   "toc_position": {},
   "toc_section_display": false,
   "toc_window_display": false
  }
 },
 "nbformat": 4,
 "nbformat_minor": 4
}
